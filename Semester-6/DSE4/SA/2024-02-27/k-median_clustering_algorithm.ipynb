{
 "cells": [
  {
   "cell_type": "code",
   "execution_count": 39,
   "id": "0d95f5b7",
   "metadata": {},
   "outputs": [],
   "source": [
    "import numpy as np\n",
    "import matplotlib.pyplot as plt"
   ]
  },
  {
   "cell_type": "code",
   "execution_count": 40,
   "id": "17836e2c",
   "metadata": {},
   "outputs": [],
   "source": [
    "import numpy as np\n",
    "\n",
    "def k_median(X, k, max_iterations=10000):\n",
    "    # Step 1: Initialization\n",
    "    centroids = X[np.random.choice(X.shape[0], k, replace=False)]\n",
    "    \n",
    "    for _ in range(max_iterations):\n",
    "        # Step 2: Assignment\n",
    "        distances = np.linalg.norm(X[:, np.newaxis] - centroids, axis=2)\n",
    "        labels = np.argmin(distances, axis=1)\n",
    "        \n",
    "        #Step 3: Update Medians\n",
    "        for i in range(k):\n",
    "            centroids[i] = np.median(X[labels==i], axis=0)\n",
    "            \n",
    "    return centroids, labels"
   ]
  },
  {
   "cell_type": "code",
   "execution_count": 41,
   "id": "e81688a2",
   "metadata": {},
   "outputs": [
    {
     "name": "stdout",
     "output_type": "stream",
     "text": [
      "Centroids:\n",
      "[[0.20654651 0.32304507]\n",
      " [0.59116933 0.83046322]\n",
      " [0.79466717 0.21852537]]\n",
      "Cluster Labels:\n",
      "[0 0 1 2 1 1 0 2 1 0 1 0 1 0 0 2 2 0 2 2 0 2 0 1 1 2 0 0 2 2 0 1 2 2 0 0 2\n",
      " 0 1 2 1 0 1 1 2 1 0 2 2 0 0 0 2 1 0 2 0 0 2 1 0 2 2 0 2 2 2 2 0 1 1 1 1 0\n",
      " 0 0 0 2 0 2 1 2 1 0 2 1 2 2 1 0 0 0 1 1 2 1 1 0 1 0]\n"
     ]
    }
   ],
   "source": [
    "# Assuming X is the dataset\n",
    "X = np.random.rand(100, 2)\n",
    "\n",
    "# set k\n",
    "k = 3\n",
    "\n",
    "# run the k-median algorithm\n",
    "centroids, labels = k_median(X, k)\n",
    "\n",
    "# printing the results\n",
    "print(\"Centroids:\")\n",
    "print(centroids)\n",
    "print(\"Cluster Labels:\")\n",
    "print(labels)"
   ]
  },
  {
   "cell_type": "code",
   "execution_count": 42,
   "id": "d6bd7fdc",
   "metadata": {},
   "outputs": [
    {
     "data": {
      "image/png": "[encoded data removed]",
      "text/plain": [
       "<Figure size 432x288 with 1 Axes>"
      ]
     },
     "metadata": {
      "needs_background": "light"
     },
     "output_type": "display_data"
    }
   ],
   "source": [
    "for i in range(100):\n",
    "    x = X[i,0]\n",
    "    y = X[i,1]\n",
    "    \n",
    "    if labels[i] == 0:\n",
    "        plt.scatter(x, y, color='red')\n",
    "    elif labels[i] == 1:\n",
    "        plt.scatter(x, y, color='green')\n",
    "    else:\n",
    "        plt.scatter(x, y, color='blue')"
   ]
  }
 ],
 "metadata": {
  "kernelspec": {
   "display_name": "Python 3 (ipykernel)",
   "language": "python",
   "name": "python3"
  },
  "language_info": {
   "codemirror_mode": {
    "name": "ipython",
    "version": 3
   },
   "file_extension": ".py",
   "mimetype": "text/x-python",
   "name": "python",
   "nbconvert_exporter": "python",
   "pygments_lexer": "ipython3",
   "version": "3.10.12"
  }
 },
 "nbformat": 4,
 "nbformat_minor": 5
}
