{
 "cells": [
  {
   "cell_type": "code",
   "execution_count": 38,
   "id": "03f7e2e1",
   "metadata": {},
   "outputs": [],
   "source": [
    "# lists in python\n",
    "L = ['Apple','Orange','Mango']"
   ]
  },
  {
   "cell_type": "code",
   "execution_count": 5,
   "id": "30b2e08a",
   "metadata": {},
   "outputs": [
    {
     "name": "stdout",
     "output_type": "stream",
     "text": [
      "Apple\n",
      "Mango\n"
     ]
    }
   ],
   "source": [
    "# forward indexing\n",
    "print(L[0])\n",
    "print(L[2])"
   ]
  },
  {
   "cell_type": "code",
   "execution_count": 6,
   "id": "23094cc8",
   "metadata": {},
   "outputs": [
    {
     "name": "stdout",
     "output_type": "stream",
     "text": [
      "Mango\n",
      "Orange\n"
     ]
    }
   ],
   "source": [
    "# reverse indexing\n",
    "print(L[-1])\n",
    "print(L[-2])"
   ]
  },
  {
   "cell_type": "code",
   "execution_count": 7,
   "id": "3923ad78",
   "metadata": {},
   "outputs": [
    {
     "name": "stdout",
     "output_type": "stream",
     "text": [
      "3\n"
     ]
    }
   ],
   "source": [
    "print(len(L)) # length of the list\n",
    "L1 = ['apple', 10, 51.12] # heterogeneous lists"
   ]
  },
  {
   "cell_type": "code",
   "execution_count": 8,
   "id": "b8cdb8bf",
   "metadata": {},
   "outputs": [
    {
     "name": "stdout",
     "output_type": "stream",
     "text": [
      "Apple\n",
      "Orange\n",
      "Mango\n"
     ]
    }
   ],
   "source": [
    "# looping through python lists\n",
    "for i in range(len(L)):\n",
    "    print(L[i])"
   ]
  },
  {
   "cell_type": "code",
   "execution_count": 43,
   "id": "afab9bc6",
   "metadata": {},
   "outputs": [
    {
     "name": "stdout",
     "output_type": "stream",
     "text": [
      "['Apple', 'Orange', 'Mango', 'Guava']\n"
     ]
    }
   ],
   "source": [
    "# appending an element\n",
    "L.append('Guava')\n",
    "print(L)"
   ]
  },
  {
   "cell_type": "code",
   "execution_count": 40,
   "id": "10d4837c",
   "metadata": {},
   "outputs": [
    {
     "name": "stdout",
     "output_type": "stream",
     "text": [
      "['Apple', 'Banana', 'Orange', 'Mango', 'Guava']\n"
     ]
    }
   ],
   "source": [
    "# inserting an element\n",
    "L.insert(1, 'Banana')\n",
    "print(L)"
   ]
  },
  {
   "cell_type": "code",
   "execution_count": 41,
   "id": "0651729c",
   "metadata": {},
   "outputs": [
    {
     "name": "stdout",
     "output_type": "stream",
     "text": [
      "['Apple', 'Orange', 'Mango', 'Guava']\n"
     ]
    }
   ],
   "source": [
    "# removing an element\n",
    "L.remove('Banana')\n",
    "print(L)"
   ]
  },
  {
   "cell_type": "code",
   "execution_count": 44,
   "id": "91d03d6e",
   "metadata": {},
   "outputs": [
    {
     "name": "stdout",
     "output_type": "stream",
     "text": [
      "['Apple', 'Orange', 'Mango'] Guava\n"
     ]
    }
   ],
   "source": [
    "# popping an element\n",
    "last_element = L.pop()\n",
    "print(L, last_element)"
   ]
  },
  {
   "cell_type": "code",
   "execution_count": 47,
   "id": "c11b6485",
   "metadata": {
    "scrolled": false
   },
   "outputs": [
    {
     "name": "stdout",
     "output_type": "stream",
     "text": [
      "['Orange', 'Mango']\n",
      "['Orange', 'Mango']\n",
      "['Apple', 'Orange']\n"
     ]
    }
   ],
   "source": [
    "# slicing a list\n",
    "print(L[1:3])\n",
    "print(L[1:])\n",
    "print(L[:2])"
   ]
  },
  {
   "cell_type": "code",
   "execution_count": 54,
   "id": "4aa14941",
   "metadata": {},
   "outputs": [
    {
     "name": "stdout",
     "output_type": "stream",
     "text": [
      "[1, 2, 3, 4, 5, 6, 7]\n",
      "[1, 2, 3, 1, 2, 3, 1, 2, 3]\n"
     ]
    }
   ],
   "source": [
    "# concatenation of two lists\n",
    "L1 = [1,2,3]\n",
    "L2 = [4,5,6,7]\n",
    "L3 = L1+L2\n",
    "print(L3)\n",
    "\n",
    "L = [1,2,3]\n",
    "L1 = L*3\n",
    "print(L1)"
   ]
  },
  {
   "cell_type": "code",
   "execution_count": 57,
   "id": "6a5e0dd3",
   "metadata": {},
   "outputs": [
    {
     "name": "stdout",
     "output_type": "stream",
     "text": [
      "Not present\n"
     ]
    }
   ],
   "source": [
    "# checking whether an element is present in list or not (using the 'in' operator)\n",
    "L = [32,2,3,4,5]\n",
    "if 1 in L:\n",
    "    print('Present')\n",
    "else:\n",
    "    print('Not present')"
   ]
  },
  {
   "cell_type": "code",
   "execution_count": 61,
   "id": "ba099a55",
   "metadata": {},
   "outputs": [
    {
     "name": "stdout",
     "output_type": "stream",
     "text": [
      "['Apple', 'Banana', 'Cherry', 'Strawberry']\n",
      "['Strawberry', 'Cherry', 'Banana', 'Apple']\n",
      "[1, 2, 3, 4, 5]\n"
     ]
    }
   ],
   "source": [
    "# sorting a python list\n",
    "L = ['Banana', 'Apple', 'Strawberry', 'Cherry']\n",
    "L.sort()\n",
    "print(L)\n",
    "L.sort(reverse=True)\n",
    "print(L)\n",
    "\n",
    "L = [5,1,3,2,4]\n",
    "L.sort()\n",
    "print(L)"
   ]
  },
  {
   "cell_type": "code",
   "execution_count": 72,
   "id": "d768a089",
   "metadata": {},
   "outputs": [
    {
     "name": "stdout",
     "output_type": "stream",
     "text": [
      "[2, 4, 6, 8, 10]\n",
      "[2, 4, 6, 8, 10]\n",
      "['BANANA', 'APPLE', 'STRAWBERRY', 'CHERRY']\n",
      "[2, 4, 6, 8, 10]\n",
      "[1, 3, 5, 7]\n"
     ]
    }
   ],
   "source": [
    "# list comprehension\n",
    "L = [1,2,3,4,5,6,7,8,9,10]\n",
    "even = []\n",
    "for e in L:\n",
    "    if e%2 == 0:\n",
    "        even.append(e)\n",
    "print(even)\n",
    "\n",
    "even = [e for e in L if e%2 == 0] # using list comprehension\n",
    "print(even)\n",
    "\n",
    "L = ['Banana','Apple','Strawberry','Cherry']\n",
    "upperL = [fruit.upper() for fruit in L]\n",
    "print(upperL)\n",
    "\n",
    "even2 = [i for i in range(1,11) if i%2 == 0]\n",
    "print(even2)\n",
    "odd = [i for i in range(1,8) if i%2 != 0]\n",
    "print(odd)"
   ]
  },
  {
   "cell_type": "code",
   "execution_count": 78,
   "id": "44c4c9df",
   "metadata": {},
   "outputs": [
    {
     "name": "stdout",
     "output_type": "stream",
     "text": [
      "dict_keys(['Ram', 'Shyam', 'Madhu'])\n",
      "dict_values([70, 80, 75])\n",
      "keys: ['Ram', 'Shyam', 'Madhu'] vals: [70, 80, 75]\n"
     ]
    }
   ],
   "source": [
    "# python dictionary\n",
    "d = {'Ram':70, 'Shyam':80, 'Madhu':75}\n",
    "print(d.keys())\n",
    "print(d.values())\n",
    "keys = list(d.keys())\n",
    "vals = list(d.values())\n",
    "print('keys:',keys, 'vals:',vals)"
   ]
  }
 ],
 "metadata": {
  "kernelspec": {
   "display_name": "Python 3 (ipykernel)",
   "language": "python",
   "name": "python3"
  },
  "language_info": {
   "codemirror_mode": {
    "name": "ipython",
    "version": 3
   },
   "file_extension": ".py",
   "mimetype": "text/x-python",
   "name": "python",
   "nbconvert_exporter": "python",
   "pygments_lexer": "ipython3",
   "version": "3.10.12"
  }
 },
 "nbformat": 4,
 "nbformat_minor": 5
}
