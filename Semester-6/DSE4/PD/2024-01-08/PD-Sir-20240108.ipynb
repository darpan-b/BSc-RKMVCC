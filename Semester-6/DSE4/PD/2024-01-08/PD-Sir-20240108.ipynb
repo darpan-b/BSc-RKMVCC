{
 "cells": [
  {
   "cell_type": "code",
   "execution_count": 1,
   "id": "655924d1",
   "metadata": {},
   "outputs": [
    {
     "name": "stdout",
     "output_type": "stream",
     "text": [
      "89.76923076923077\n"
     ]
    }
   ],
   "source": [
    "# mean\n",
    "import numpy\n",
    "speed = [99,86,87,88,111,86,103,87,94,78,77,85,86]\n",
    "x = numpy.mean(speed)\n",
    "print(x)"
   ]
  },
  {
   "cell_type": "code",
   "execution_count": 2,
   "id": "4a243a10",
   "metadata": {},
   "outputs": [
    {
     "name": "stdout",
     "output_type": "stream",
     "text": [
      "87.0\n"
     ]
    }
   ],
   "source": [
    "# median\n",
    "x = numpy.median(speed)\n",
    "print(x)"
   ]
  },
  {
   "cell_type": "code",
   "execution_count": 3,
   "id": "ee6b830f",
   "metadata": {},
   "outputs": [
    {
     "name": "stdout",
     "output_type": "stream",
     "text": [
      "ModeResult(mode=array([86]), count=array([3]))\n"
     ]
    }
   ],
   "source": [
    "# mode\n",
    "from scipy import stats\n",
    "x = stats.mode(speed)\n",
    "print(x)"
   ]
  },
  {
   "cell_type": "code",
   "execution_count": 6,
   "id": "006e11af",
   "metadata": {},
   "outputs": [
    {
     "name": "stdout",
     "output_type": "stream",
     "text": [
      "0.9035079029052513\n",
      "37.84501153334721\n"
     ]
    }
   ],
   "source": [
    "# standard deviation\n",
    "speed = [86,87,88,86,87,85,86]\n",
    "x = numpy.std(speed)\n",
    "print(x)\n",
    "\n",
    "speed = [32,111,138,28,59,77,97]\n",
    "x = numpy.std(speed)\n",
    "print(x)"
   ]
  },
  {
   "cell_type": "code",
   "execution_count": 7,
   "id": "bec667d9",
   "metadata": {},
   "outputs": [
    {
     "name": "stdout",
     "output_type": "stream",
     "text": [
      "1432.2448979591834\n"
     ]
    }
   ],
   "source": [
    "# variance\n",
    "speed = [32,111,138,28,59,77,97]\n",
    "x = numpy.var(speed)\n",
    "print(x)"
   ]
  },
  {
   "cell_type": "code",
   "execution_count": null,
   "id": "3f8f83db",
   "metadata": {},
   "outputs": [],
   "source": [
    "# percentile\n",
    "ages = [5,31,43,48,50,41,7,11,15,39,80,82,32,2,8,6,25,36,27,61,31]\n",
    "x = numpy.percentile(ages,75)\n",
    "print(x)\n",
    "x = numpy.percentile(ages,90)\n",
    "print(x)"
   ]
  },
  {
   "cell_type": "code",
   "execution_count": null,
   "id": "90b47eba",
   "metadata": {},
   "outputs": [],
   "source": []
  }
 ],
 "metadata": {
  "kernelspec": {
   "display_name": "Python 3 (ipykernel)",
   "language": "python",
   "name": "python3"
  },
  "language_info": {
   "codemirror_mode": {
    "name": "ipython",
    "version": 3
   },
   "file_extension": ".py",
   "mimetype": "text/x-python",
   "name": "python",
   "nbconvert_exporter": "python",
   "pygments_lexer": "ipython3",
   "version": "3.10.12"
  }
 },
 "nbformat": 4,
 "nbformat_minor": 5
}
