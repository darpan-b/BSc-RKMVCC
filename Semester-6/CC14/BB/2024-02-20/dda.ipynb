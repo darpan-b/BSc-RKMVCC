{
 "cells": [
  {
   "cell_type": "code",
   "execution_count": 1,
   "id": "73014c36",
   "metadata": {},
   "outputs": [],
   "source": [
    "import sys\n",
    "from OpenGL.GL import *\n",
    "from OpenGL.GLU import *\n",
    "from OpenGL.GLUT import *"
   ]
  },
  {
   "cell_type": "code",
   "execution_count": 2,
   "id": "3497e87d",
   "metadata": {},
   "outputs": [],
   "source": [
    "# Function to initialize window\n",
    "def init():\n",
    "    glClearColor(0.0, 0.0, 0.0, 0.0)\n",
    "    gluOrtho2D(0, 500, 0, 500)"
   ]
  },
  {
   "cell_type": "code",
   "execution_count": 3,
   "id": "0516b5c0",
   "metadata": {},
   "outputs": [],
   "source": [
    "# Function to plot points\n",
    "def plot(x, y):\n",
    "    glBegin(GL_POINTS)\n",
    "    glVertex2i(x, y)\n",
    "    glEnd()"
   ]
  },
  {
   "cell_type": "code",
   "execution_count": 4,
   "id": "c05d31ca",
   "metadata": {},
   "outputs": [],
   "source": [
    "# Function for DDA line algorithm\n",
    "def draw_line(x1, y1, x2, y2):\n",
    "    dx = x2 - x1\n",
    "    dy = y2 - y1\n",
    "    if abs(dx) > abs(dy):\n",
    "        steps = abs(dx)\n",
    "    else:\n",
    "        steps = abs(dy)\n",
    "    x_increment = dx / float(steps)\n",
    "    y_increment = dy / float(steps)\n",
    "    x = x1\n",
    "    y = y1\n",
    "    plot(round(x), round(y))\n",
    "    for k in range(steps):\n",
    "        x += x_increment\n",
    "        y += y_increment\n",
    "        plot(round(x), round(y))\n",
    "    glFlush()"
   ]
  },
  {
   "cell_type": "code",
   "execution_count": 5,
   "id": "b0c61d3a",
   "metadata": {},
   "outputs": [],
   "source": [
    "# Function to handle drawing\n",
    "def display():\n",
    "    glClear(GL_COLOR_BUFFER_BIT)\n",
    "    glColor3f(1.0, 1.0, 1.0)\n",
    "    draw_line(100, 100, 400, 400)\n",
    "    glFlush()"
   ]
  },
  {
   "cell_type": "code",
   "execution_count": null,
   "id": "ac3cb7f9",
   "metadata": {},
   "outputs": [],
   "source": [
    "# Main function\n",
    "glutInit()\n",
    "glutInitDisplayMode(GLUT_SINGLE | GLUT_RGB)\n",
    "glutInitWindowSize(500, 500)\n",
    "glutInitWindowPosition(100, 100)\n",
    "glutCreateWindow(\"DDA Line Drawing Algorithm\")\n",
    "glutDisplayFunc(display)\n",
    "init()\n",
    "glutMainLoop()"
   ]
  },
  {
   "cell_type": "code",
   "execution_count": null,
   "id": "5e5f5ed4",
   "metadata": {},
   "outputs": [],
   "source": []
  }
 ],
 "metadata": {
  "kernelspec": {
   "display_name": "Python 3 (ipykernel)",
   "language": "python",
   "name": "python3"
  },
  "language_info": {
   "codemirror_mode": {
    "name": "ipython",
    "version": 3
   },
   "file_extension": ".py",
   "mimetype": "text/x-python",
   "name": "python",
   "nbconvert_exporter": "python",
   "pygments_lexer": "ipython3",
   "version": "3.10.12"
  }
 },
 "nbformat": 4,
 "nbformat_minor": 5
}
