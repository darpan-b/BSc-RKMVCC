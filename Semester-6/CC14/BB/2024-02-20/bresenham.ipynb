{
 "cells": [
  {
   "cell_type": "code",
   "execution_count": 1,
   "id": "73014c36",
   "metadata": {},
   "outputs": [],
   "source": [
    "import sys\n",
    "from OpenGL.GL import *\n",
    "from OpenGL.GLU import *\n",
    "from OpenGL.GLUT import *"
   ]
  },
  {
   "cell_type": "code",
   "execution_count": 2,
   "id": "3497e87d",
   "metadata": {},
   "outputs": [],
   "source": [
    "# Function to initialize window\n",
    "def init():\n",
    "    glClearColor(1.0, 1.0, 1.0, 1.0)\n",
    "    gluOrtho2D(0, 500, 0, 500)"
   ]
  },
  {
   "cell_type": "code",
   "execution_count": 3,
   "id": "0516b5c0",
   "metadata": {},
   "outputs": [],
   "source": [
    "# Function to plot points\n",
    "def plot(x, y):\n",
    "    glBegin(GL_POINTS)\n",
    "    glVertex2i(x, y)\n",
    "    glEnd()"
   ]
  },
  {
   "cell_type": "code",
   "execution_count": 4,
   "id": "c05d31ca",
   "metadata": {},
   "outputs": [],
   "source": [
    "# # Function for DDA line algorithm\n",
    "# def draw_line(x1, y1, x2, y2):\n",
    "#     dx = x2 - x1\n",
    "#     dy = y2 - y1\n",
    "#     if abs(dx) > abs(dy):\n",
    "#         steps = abs(dx)\n",
    "#     else:\n",
    "#         steps = abs(dy)\n",
    "#     x_increment = dx / float(steps)\n",
    "#     y_increment = dy / float(steps)\n",
    "#     x = x1\n",
    "#     y = y1\n",
    "#     plot(round(x), round(y))\n",
    "#     for k in range(steps):\n",
    "#         x += x_increment\n",
    "#         y += y_increment\n",
    "#         plot(round(x), round(y))\n",
    "#     glFlush()"
   ]
  },
  {
   "cell_type": "code",
   "execution_count": 5,
   "id": "ee75a77e",
   "metadata": {},
   "outputs": [],
   "source": [
    "# Python 3 program for Bresenham’s Line Generation \n",
    "# Assumptions : \n",
    "# 1) Line is drawn from left to right. \n",
    "# 2) x1 < x2 and y1 < y2 \n",
    "# 3) Slope of the line is between 0 and 1. \n",
    "# We draw a line from lower left to upper \n",
    "# right. \n",
    "# function for line generation\n",
    "\n",
    "def bresenham(x1, y1, x2, y2): \n",
    "  \n",
    "    m_new = 2 * (y2 - y1) \n",
    "    slope_error_new = m_new - (x2 - x1) \n",
    "  \n",
    "    y = y1 \n",
    "    for x in range(x1, x2+1): \n",
    "        plot(round(x), round(y))\n",
    "  \n",
    "        # Add slope to increment angle formed \n",
    "        slope_error_new = slope_error_new + m_new \n",
    "  \n",
    "        # Slope error reached limit, time to \n",
    "        # increment y and update slope error. \n",
    "        if (slope_error_new >= 0): \n",
    "            y = y + 1\n",
    "            slope_error_new = slope_error_new - 2 * (x2 - x1) \n",
    "  "
   ]
  },
  {
   "cell_type": "code",
   "execution_count": 6,
   "id": "b0c61d3a",
   "metadata": {},
   "outputs": [],
   "source": [
    "# Function to handle drawing\n",
    "def display():\n",
    "    glClear(GL_COLOR_BUFFER_BIT)\n",
    "    glColor3f(0.0, 0.0, 0.0)\n",
    "#     draw_line(100, 100, 400, 400)\n",
    "    bresenham(200, 200, 300, 300)\n",
    "    glFlush()"
   ]
  },
  {
   "cell_type": "code",
   "execution_count": null,
   "id": "ac3cb7f9",
   "metadata": {},
   "outputs": [],
   "source": [
    "# Main function\n",
    "glutInit()\n",
    "glutInitDisplayMode(GLUT_SINGLE | GLUT_RGB)\n",
    "glutInitWindowSize(500, 500)\n",
    "glutInitWindowPosition(100, 100)\n",
    "glutCreateWindow(\"Bresenham's Line Drawing Algorithm\")\n",
    "glutDisplayFunc(display)\n",
    "init()\n",
    "glutMainLoop()"
   ]
  }
 ],
 "metadata": {
  "kernelspec": {
   "display_name": "Python 3 (ipykernel)",
   "language": "python",
   "name": "python3"
  },
  "language_info": {
   "codemirror_mode": {
    "name": "ipython",
    "version": 3
   },
   "file_extension": ".py",
   "mimetype": "text/x-python",
   "name": "python",
   "nbconvert_exporter": "python",
   "pygments_lexer": "ipython3",
   "version": "3.10.12"
  }
 },
 "nbformat": 4,
 "nbformat_minor": 5
}
